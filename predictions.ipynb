{
 "cells": [
  {
   "cell_type": "code",
   "execution_count": 1,
   "metadata": {},
   "outputs": [],
   "source": [
    "import numpy as np\n",
    "import pandas as pd\n",
    "import matplotlib.pyplot as plt\n",
    "import seaborn as sns\n",
    "import datetime\n",
    "import warnings\n",
    "from sklearn.preprocessing import FunctionTransformer, OneHotEncoder, LabelEncoder\n",
    "from sklearn.compose import ColumnTransformer\n",
    "from sklearn.pipeline import Pipeline, make_pipeline\n",
    "from xgboost import XGBRegressor\n",
    "import pickle\n",
    "warnings.filterwarnings(\"ignore\")\n",
    "\n",
    "%matplotlib inline"
   ]
  },
  {
   "cell_type": "code",
   "execution_count": 2,
   "metadata": {},
   "outputs": [],
   "source": [
    "with open('Flight_price_pred.pkl','rb') as file:\n",
    "    model = pickle.load(file)\n",
    "\n",
    "with open('ohe_encoder_airline.pkl','rb') as file:\n",
    "    ohe_Airline  = pickle.load(file)\n",
    "\n",
    "with open('ohe_encoder_destination.pkl','rb') as file:\n",
    "    ohe_Destination = pickle.load(file)\n",
    "\n",
    "with open('ohe_encoder_source.pkl','rb') as file:\n",
    "    ohe_Source = pickle.load(file)\n",
    "\n",
    "with open('scaler.pkl','rb') as file:\n",
    "    scaler = pickle.load(file)\n"
   ]
  },
  {
   "cell_type": "code",
   "execution_count": 3,
   "metadata": {},
   "outputs": [],
   "source": [
    "input_data = pd.DataFrame({\n",
    "    'Airline': ['IndiGo'],\n",
    "    'Source': ['Banglore'],\n",
    "    'Destination': ['New Delhi'],\n",
    "    'Total_Stops': [0],\n",
    "    'Journey_day': [1],\n",
    "    'Journey_month': [5],\n",
    "    'Dep_hour': [22],\n",
    "    'Dep_min': [20],\n",
    "    'Arrival_hour': [1],\n",
    "    'Arrival_min': [10],\n",
    "    'Duration_hours': [2],\n",
    "    'Duration_mins': [50]\n",
    "})"
   ]
  },
  {
   "cell_type": "code",
   "execution_count": 4,
   "metadata": {},
   "outputs": [
    {
     "data": {
      "text/html": [
       "<div>\n",
       "<style scoped>\n",
       "    .dataframe tbody tr th:only-of-type {\n",
       "        vertical-align: middle;\n",
       "    }\n",
       "\n",
       "    .dataframe tbody tr th {\n",
       "        vertical-align: top;\n",
       "    }\n",
       "\n",
       "    .dataframe thead th {\n",
       "        text-align: right;\n",
       "    }\n",
       "</style>\n",
       "<table border=\"1\" class=\"dataframe\">\n",
       "  <thead>\n",
       "    <tr style=\"text-align: right;\">\n",
       "      <th></th>\n",
       "      <th>Airline</th>\n",
       "      <th>Source</th>\n",
       "      <th>Destination</th>\n",
       "      <th>Total_Stops</th>\n",
       "      <th>Journey_day</th>\n",
       "      <th>Journey_month</th>\n",
       "      <th>Dep_hour</th>\n",
       "      <th>Dep_min</th>\n",
       "      <th>Arrival_hour</th>\n",
       "      <th>Arrival_min</th>\n",
       "      <th>Duration_hours</th>\n",
       "      <th>Duration_mins</th>\n",
       "    </tr>\n",
       "  </thead>\n",
       "  <tbody>\n",
       "    <tr>\n",
       "      <th>0</th>\n",
       "      <td>IndiGo</td>\n",
       "      <td>Banglore</td>\n",
       "      <td>New Delhi</td>\n",
       "      <td>0</td>\n",
       "      <td>1</td>\n",
       "      <td>5</td>\n",
       "      <td>22</td>\n",
       "      <td>20</td>\n",
       "      <td>1</td>\n",
       "      <td>10</td>\n",
       "      <td>2</td>\n",
       "      <td>50</td>\n",
       "    </tr>\n",
       "  </tbody>\n",
       "</table>\n",
       "</div>"
      ],
      "text/plain": [
       "  Airline    Source Destination  Total_Stops  Journey_day  Journey_month  \\\n",
       "0  IndiGo  Banglore   New Delhi            0            1              5   \n",
       "\n",
       "   Dep_hour  Dep_min  Arrival_hour  Arrival_min  Duration_hours  Duration_mins  \n",
       "0        22       20             1           10               2             50  "
      ]
     },
     "execution_count": 4,
     "metadata": {},
     "output_type": "execute_result"
    }
   ],
   "source": [
    "input_data"
   ]
  },
  {
   "cell_type": "code",
   "execution_count": 5,
   "metadata": {},
   "outputs": [],
   "source": [
    "encoded_airline = ohe_Airline.transform(input_data[['Airline']])\n",
    "encoded_airline_df = pd.DataFrame(encoded_airline.toarray(), columns=ohe_Airline.get_feature_names_out(['Airline']))"
   ]
  },
  {
   "cell_type": "code",
   "execution_count": 6,
   "metadata": {},
   "outputs": [],
   "source": [
    "input_data.reset_index(drop=True, inplace=True)\n",
    "encoded_airline_df.reset_index(drop=True, inplace=True)\n",
    "input_data = pd.concat([input_data.drop(\"Airline\",axis=1), encoded_airline_df], axis=1)"
   ]
  },
  {
   "cell_type": "code",
   "execution_count": 16,
   "metadata": {},
   "outputs": [
    {
     "data": {
      "text/plain": [
       "array(['Air Asia', 'Air India', 'GoAir', 'IndiGo', 'Jet Airways',\n",
       "       'Jet Airways Business', 'Multiple carriers',\n",
       "       'Multiple carriers Premium economy', 'SpiceJet', 'Trujet',\n",
       "       'Vistara', 'Vistara Premium economy'], dtype=object)"
      ]
     },
     "execution_count": 16,
     "metadata": {},
     "output_type": "execute_result"
    }
   ],
   "source": [
    "ohe_Airline.categories_[0]"
   ]
  },
  {
   "cell_type": "code",
   "execution_count": 17,
   "metadata": {},
   "outputs": [
    {
     "data": {
      "text/plain": [
       "array(['Airline_Air Asia', 'Airline_Air India', 'Airline_GoAir',\n",
       "       'Airline_IndiGo', 'Airline_Jet Airways',\n",
       "       'Airline_Jet Airways Business', 'Airline_Multiple carriers',\n",
       "       'Airline_Multiple carriers Premium economy', 'Airline_SpiceJet',\n",
       "       'Airline_Trujet', 'Airline_Vistara',\n",
       "       'Airline_Vistara Premium economy'], dtype=object)"
      ]
     },
     "execution_count": 17,
     "metadata": {},
     "output_type": "execute_result"
    }
   ],
   "source": [
    "ohe_Airline.get_feature_names_out(['Airline'])"
   ]
  },
  {
   "cell_type": "code",
   "execution_count": 7,
   "metadata": {},
   "outputs": [],
   "source": [
    "#encoding source"
   ]
  },
  {
   "cell_type": "code",
   "execution_count": 8,
   "metadata": {},
   "outputs": [],
   "source": [
    "encoded_source  = ohe_Source.transform(input_data[['Source']])\n",
    "encoded_source_df = pd.DataFrame(encoded_source.toarray(), columns=ohe_Source.get_feature_names_out(['Source']))"
   ]
  },
  {
   "cell_type": "code",
   "execution_count": 9,
   "metadata": {},
   "outputs": [],
   "source": [
    "input_data.reset_index(drop=True, inplace=True)\n",
    "encoded_source_df.reset_index(drop=True, inplace=True)\n",
    "input_data = pd.concat([input_data.drop('Source', axis=1), encoded_source_df], axis=1)"
   ]
  },
  {
   "cell_type": "code",
   "execution_count": 10,
   "metadata": {},
   "outputs": [],
   "source": [
    "#encoding destination"
   ]
  },
  {
   "cell_type": "code",
   "execution_count": 11,
   "metadata": {},
   "outputs": [],
   "source": [
    "encoded_destination  = ohe_Destination.transform(input_data[['Destination']])\n",
    "encoded_destination_df = pd.DataFrame(encoded_destination.toarray(), columns=ohe_Destination.get_feature_names_out(['Destination']))"
   ]
  },
  {
   "cell_type": "code",
   "execution_count": 12,
   "metadata": {},
   "outputs": [],
   "source": [
    "input_data.reset_index(drop=True, inplace=True)\n",
    "encoded_destination_df.reset_index(drop=True, inplace=True)\n",
    "input_data = pd.concat([input_data.drop('Destination',axis=1), encoded_destination_df], axis=1)"
   ]
  },
  {
   "cell_type": "code",
   "execution_count": null,
   "metadata": {},
   "outputs": [],
   "source": []
  },
  {
   "cell_type": "code",
   "execution_count": 13,
   "metadata": {},
   "outputs": [
    {
     "data": {
      "text/plain": [
       "(1, 32)"
      ]
     },
     "execution_count": 13,
     "metadata": {},
     "output_type": "execute_result"
    }
   ],
   "source": [
    "input_data.shape"
   ]
  },
  {
   "cell_type": "code",
   "execution_count": 14,
   "metadata": {},
   "outputs": [
    {
     "data": {
      "text/plain": [
       "array([[-1.21878044, -1.47834407,  0.25869104,  1.66329344, -0.23426638,\n",
       "        -1.81629826, -0.8903887 , -0.96052314,  1.29423904, -0.17870613,\n",
       "        -0.43759151, -0.13916403,  2.0403094 , -0.74323761, -0.02678518,\n",
       "        -0.35507242, -0.03458779, -0.29042775, -0.01093174, -0.22374703,\n",
       "        -0.01893659,  1.95825881, -0.19348506, -0.84057484, -0.61560955,\n",
       "        -0.27059916, -0.61560955, -0.84057484, -0.36754249, -0.27059916,\n",
       "        -0.19348506,  3.22279297]])"
      ]
     },
     "execution_count": 14,
     "metadata": {},
     "output_type": "execute_result"
    }
   ],
   "source": [
    "input_scaled=scaler.transform(input_data)\n",
    "input_scaled"
   ]
  },
  {
   "cell_type": "code",
   "execution_count": 15,
   "metadata": {},
   "outputs": [
    {
     "data": {
      "text/plain": [
       "array([9932.052], dtype=float32)"
      ]
     },
     "execution_count": 15,
     "metadata": {},
     "output_type": "execute_result"
    }
   ],
   "source": [
    "prediction=model.predict(input_scaled)\n",
    "prediction"
   ]
  },
  {
   "cell_type": "code",
   "execution_count": null,
   "metadata": {},
   "outputs": [],
   "source": []
  },
  {
   "cell_type": "code",
   "execution_count": null,
   "metadata": {},
   "outputs": [],
   "source": []
  }
 ],
 "metadata": {
  "kernelspec": {
   "display_name": "myenv",
   "language": "python",
   "name": "python3"
  },
  "language_info": {
   "codemirror_mode": {
    "name": "ipython",
    "version": 3
   },
   "file_extension": ".py",
   "mimetype": "text/x-python",
   "name": "python",
   "nbconvert_exporter": "python",
   "pygments_lexer": "ipython3",
   "version": "3.12.4"
  }
 },
 "nbformat": 4,
 "nbformat_minor": 2
}
